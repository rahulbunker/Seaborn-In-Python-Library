{
 "cells": [
  {
   "cell_type": "markdown",
   "id": "73c15f86-9d04-45e9-a716-d5633727c15c",
   "metadata": {},
   "source": [
    "# What is seaborn ?"
   ]
  },
  {
   "cell_type": "markdown",
   "id": "f07aa89a-ff33-47ec-8de2-33ed7847fcd0",
   "metadata": {},
   "source": [
    "Seaborn is a data visualization library built on top of matplotlib and closely integrated with pandas data structures in python."
   ]
  },
  {
   "cell_type": "markdown",
   "id": "bdda95f5-7479-4ddd-9c30-28d39940c967",
   "metadata": {},
   "source": [
    "## Seaborn Graphs:-"
   ]
  },
  {
   "cell_type": "markdown",
   "id": "b2ae471c-701d-4259-a4a7-6ca9d79a2e3f",
   "metadata": {},
   "source": [
    "* Scatter Plot\n",
    "* Customizing with Matplotlib\n",
    "* Box Plot\n",
    "* Violin Plot\n",
    "* Swarm Plot\n",
    "* Overlaying plots\n",
    "* Heatmap\n",
    "* Histogram\n",
    "* Bar Plot\n",
    "* Factor Plot\n",
    "* Density plot\n",
    "* Joint Distribution plot"
   ]
  },
  {
   "cell_type": "markdown",
   "id": "5bd488f4-e3f1-41d5-b197-488934c0ddb6",
   "metadata": {},
   "source": [
    "### Installation Seaborn"
   ]
  },
  {
   "cell_type": "markdown",
   "id": "439638a9-04b1-451e-a33c-8314d15282dc",
   "metadata": {},
   "source": [
    "!pip install seaborn"
   ]
  },
  {
   "cell_type": "markdown",
   "id": "6805a531-c49c-4019-b731-eed92aae4adb",
   "metadata": {},
   "source": [
    "## Importing "
   ]
  },
  {
   "cell_type": "markdown",
   "id": "517f00e6-64c3-4581-ae74-156d2e01e781",
   "metadata": {},
   "source": [
    "import matplotlib.pyplot as plt   \n",
    "or\n",
    "from matplotlib import pyplot as plt \n",
    "\n",
    "\n",
    "\n",
    "\n"
   ]
  },
  {
   "cell_type": "markdown",
   "id": "56dd8066-6bd5-4826-a552-a3d1aa18b0f8",
   "metadata": {},
   "source": [
    "* import seaborn as sns"
   ]
  },
  {
   "cell_type": "code",
   "execution_count": null,
   "id": "98d19bb7-27cd-4d7b-81a3-7e228983c62a",
   "metadata": {},
   "outputs": [],
   "source": []
  }
 ],
 "metadata": {
  "kernelspec": {
   "display_name": "Python 3 (ipykernel)",
   "language": "python",
   "name": "python3"
  },
  "language_info": {
   "codemirror_mode": {
    "name": "ipython",
    "version": 3
   },
   "file_extension": ".py",
   "mimetype": "text/x-python",
   "name": "python",
   "nbconvert_exporter": "python",
   "pygments_lexer": "ipython3",
   "version": "3.12.4"
  }
 },
 "nbformat": 4,
 "nbformat_minor": 5
}
